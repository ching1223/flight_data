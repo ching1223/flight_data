{
 "cells": [
  {
   "cell_type": "code",
   "execution_count": 93,
   "metadata": {},
   "outputs": [],
   "source": [
    "import json\n",
    "import requests\n",
    "import pandas as pd\n",
    "import csv"
   ]
  },
  {
   "cell_type": "code",
   "execution_count": 102,
   "metadata": {},
   "outputs": [
    {
     "name": "stdout",
     "output_type": "stream",
     "text": [
      "Failed to retrieve data. Status code: 429\n"
     ]
    }
   ],
   "source": [
    "import requests\n",
    "import csv\n",
    "import json\n",
    "\n",
    "# 設置 API 請求的 URL 和查詢參數\n",
    "url = \"https://sky-scanner3.p.rapidapi.com/flights/search-one-way\"\n",
    "\n",
    "querystring = {\n",
    "    \"fromEntityId\": \"TPE\",\n",
    "    \"departDate\": \"2024-09-13\",\n",
    "    \"locale\": \"zh-TW\",\n",
    "    \"currency\": \"TWD\",\n",
    "    \"stops\": \"direct\",\n",
    "    \"cabinClass\": \"economy\"\n",
    "}\n",
    "\n",
    "# 設置請求頭部，包含 API Key\n",
    "headers = {\n",
    "    \"x-rapidapi-key\": \"ee4d50a425msh487fe0a85624bdcp134f82jsnefae2bf9982f\",\n",
    "    \"x-rapidapi-host\": \"sky-scanner3.p.rapidapi.com\"\n",
    "}\n",
    "\n",
    "# 發送 GET 請求\n",
    "response = requests.get(url, headers=headers, params=querystring)\n",
    "\n",
    "# 確保請求成功\n",
    "if response.status_code == 200:\n",
    "    flight_data = response.json()\n",
    "    \n",
    "    # 提取數據\n",
    "    results = flight_data.get(\"data\", {}).get(\"everywhereDestination\", {}).get(\"results\", [])\n",
    "    \n",
    "    # 將 JSON 響應格式化並打印（可選）\n",
    "    print(json.dumps(flight_data, indent=4, ensure_ascii=False))\n",
    "    \n",
    "    # 寫入 CSV 文件\n",
    "    with open('flight_data.csv', 'w', newline='', encoding='utf-8') as file:\n",
    "        writer = csv.writer(file)\n",
    "        writer.writerow([\"Location ID\", \"Location Name\", \"Cheapest Price\", \"Direct Price\", \"Direct\"])\n",
    "        \n",
    "        for result in results:\n",
    "            location_id = result.get('id', 'N/A')\n",
    "            location_name = result.get('content', {}).get('location', {}).get('name', 'N/A')\n",
    "            cheapest_price = result.get('content', {}).get('flightQuotes', {}).get('cheapest', {}).get('price', 'N/A')\n",
    "            direct_price = result.get('content', {}).get('flightQuotes', {}).get('direct', {}).get('price', 'N/A')\n",
    "            direct = result.get('content', {}).get('flightQuotes', {}).get('direct', {}).get('direct', 'True')\n",
    "\n",
    "            # 打印數據\n",
    "            if direct == True:\n",
    "                print(f\"Location ID: {location_id}\")\n",
    "                print(f\"Location Name: {location_name}\")\n",
    "                print(f\"Cheapest Price: {cheapest_price}\")\n",
    "                print(f\"Direct Price: {direct_price}\")\n",
    "                print(f\"Direct: {direct}\")\n",
    "                print()\n",
    "            \n",
    "            # 寫入 CSV 文件\n",
    "                writer.writerow([location_id, location_name, cheapest_price, direct_price, direct])\n",
    "else:\n",
    "    print(f\"Failed to retrieve data. Status code: {response.status_code}\")\n"
   ]
  }
 ],
 "metadata": {
  "kernelspec": {
   "display_name": "Python 3",
   "language": "python",
   "name": "python3"
  },
  "language_info": {
   "codemirror_mode": {
    "name": "ipython",
    "version": 3
   },
   "file_extension": ".py",
   "mimetype": "text/x-python",
   "name": "python",
   "nbconvert_exporter": "python",
   "pygments_lexer": "ipython3",
   "version": "3.12.4"
  }
 },
 "nbformat": 4,
 "nbformat_minor": 2
}

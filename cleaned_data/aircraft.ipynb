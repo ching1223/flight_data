{
 "cells": [
  {
   "cell_type": "markdown",
   "metadata": {},
   "source": [
    "抓取座位數"
   ]
  },
  {
   "cell_type": "code",
   "execution_count": null,
   "metadata": {},
   "outputs": [],
   "source": [
    "from selenium import webdriver\n",
    "from selenium.webdriver.common.by import By\n",
    "from selenium.webdriver.common.keys import Keys\n",
    "from selenium.webdriver.support.ui import WebDriverWait\n",
    "from selenium.webdriver.support import expected_conditions as EC\n",
    "import pandas as pd\n",
    "import time\n",
    "\n",
    "# 讀取你的航班代碼檔案\n",
    "file_path = \"flights.csv\"  # 替換成你的檔案\n",
    "data = pd.read_csv(file_path)\n",
    "\n",
    "# 設定 Selenium 瀏覽器\n",
    "driver_path = \"/opt/homebrew/bin/chromedriver\"  # 替換成你的 ChromeDriver 路徑\n",
    "options = webdriver.ChromeOptions()\n",
    "options.add_argument(\"--start-maximized\")\n",
    "driver = webdriver.Chrome(executable_path=driver_path, options=options)\n",
    "\n",
    "# 定義爬取座位數的函數\n",
    "def get_seat_count(flight_code):\n",
    "    try:\n",
    "        url = \"https://flightera.net/en/search\"\n",
    "        driver.get(url)\n",
    "        \n",
    "        # 等待並找到搜尋欄位\n",
    "        wait = WebDriverWait(driver, 10)\n",
    "        search_box = wait.until(EC.presence_of_element_located((By.XPATH, '//input[@placeholder=\"Example : LH500\"]')))\n",
    "        \n",
    "        # 輸入航班代碼並搜尋\n",
    "        search_box.clear()\n",
    "        search_box.send_keys(flight_code)\n",
    "        search_box.send_keys(Keys.RETURN)\n",
    "        \n",
    "        # 等待結果頁加載\n",
    "        time.sleep(3)  # 可改為更精確的條件等待\n",
    "        \n",
    "        # 抓取座位數資訊（假設座位數顯示在特定位置）\n",
    "        seat_info = driver.find_element(By.XPATH, '//*[contains(text(), \"Seats\")]').text\n",
    "        seat_count = int(''.join(filter(str.isdigit, seat_info)))  # 提取數字部分\n",
    "        return seat_count\n",
    "    except Exception as e:\n",
    "        print(f\"航班 {flight_code} 查詢失敗: {e}\")\n",
    "        return None\n",
    "\n",
    "# 為每個航班代碼爬取座位數\n",
    "data['seat_count'] = data['flight_code'].apply(get_seat_count)\n",
    "\n",
    "# 關閉瀏覽器\n",
    "driver.quit()\n",
    "\n",
    "# 將結果保存至新檔案\n",
    "output_file_path = \"flights_with_seat_counts.csv\"\n",
    "data.to_csv(output_file_path, index=False)\n",
    "print(f\"已保存結果至：{output_file_path}\")\n"
   ]
  },
  {
   "cell_type": "markdown",
   "metadata": {},
   "source": []
  }
 ],
 "metadata": {
  "kernelspec": {
   "display_name": "myenv",
   "language": "python",
   "name": "python3"
  },
  "language_info": {
   "name": "python",
   "version": "3.12.6"
  }
 },
 "nbformat": 4,
 "nbformat_minor": 2
}

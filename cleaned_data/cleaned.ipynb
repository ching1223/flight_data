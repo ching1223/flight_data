{
 "cells": [
  {
   "cell_type": "markdown",
   "metadata": {},
   "source": [
    "資料處理（按日期跟航班代碼排序）"
   ]
  },
  {
   "cell_type": "code",
   "execution_count": 23,
   "metadata": {},
   "outputs": [
    {
     "name": "stdout",
     "output_type": "stream",
     "text": [
      "分組並排序後的資料已輸出到 /Users/yuchingchen/Documents/專題/cleaned_data/tokyo.csv\n"
     ]
    }
   ],
   "source": [
    "import os\n",
    "import pandas as pd\n",
    "\n",
    "def load_and_merge_files(start_date, end_date, base_path):\n",
    "    \"\"\"\n",
    "    根據指定的日期範圍自動載入CSV檔案並合併成一個DataFrame，並計算 day left 欄位\n",
    "    日期格式為 'MMDD'，例如 '1020' 表示10月20日\n",
    "    \"\"\"\n",
    "    # 創建日期範圍\n",
    "    dates = pd.date_range(start=f'2024-{start_date[:2]}-{start_date[2:]}', \n",
    "                          end=f'2024-{end_date[:2]}-{end_date[2:]}')\n",
    "    date_strings = [date.strftime('%m%d') for date in dates]\n",
    "\n",
    "    # 根據日期範圍載入檔案\n",
    "    data_frames = []\n",
    "    for date in date_strings:\n",
    "        file_path = f'{base_path}/tokyo_{date}.csv'\n",
    "        if os.path.exists(file_path):\n",
    "            # 讀取 CSV 檔案\n",
    "            df = pd.read_csv(file_path)\n",
    "            if not df.empty:\n",
    "                # 清理資料並去除無效行\n",
    "                df = df.dropna(how=\"all\")  # 刪除全空的行\n",
    "                # 提取出發日期的 YYYY-MM-DD 部分並格式化\n",
    "                df['出發日期'] = pd.to_datetime(df['出發日期'].str.extract(r'(\\d{4}-\\d{2}-\\d{2})')[0], format='%Y-%m-%d').dt.strftime('%Y-%m-%d')\n",
    "                \n",
    "                # 計算 day left\n",
    "                file_date = pd.to_datetime(f\"2024-{date[:2]}-{date[2:]}\")\n",
    "                df['day left'] = (pd.to_datetime(df['出發日期']) - file_date).dt.days\n",
    "                \n",
    "                data_frames.append(df)\n",
    "\n",
    "    # 合併所有資料\n",
    "    merged_data = pd.concat(data_frames, ignore_index=True) if data_frames else pd.DataFrame()\n",
    "    \n",
    "    return merged_data\n",
    "\n",
    "def save_csv_with_headers(data, output_path):\n",
    "    \"\"\"\n",
    "    儲存資料到 CSV，在每個不同航班代碼前加入標題行，並清除無效行\n",
    "    \"\"\"\n",
    "    header = list(data.columns)\n",
    "    previous_flight_code = None\n",
    "\n",
    "    with open(output_path, 'w', encoding='utf-8-sig') as f:\n",
    "        # 遍歷每一行資料\n",
    "        for _, row in data.iterrows():\n",
    "            # 檢查是否為有效的資料行（非空且包含有效的出發日期）\n",
    "            if pd.notna(row['出發日期']) and pd.notna(row['航班代碼']):\n",
    "                # 檢查航班代碼是否變更\n",
    "                if row['航班代碼'] != previous_flight_code:\n",
    "                    # 在不同的航班代碼前插入標題行\n",
    "                    f.write(','.join(header) + '\\n')\n",
    "                    previous_flight_code = row['航班代碼']\n",
    "                # 寫入資料行\n",
    "                f.write(','.join([str(item) for item in row]) + '\\n')\n",
    "\n",
    "# 使用範例\n",
    "base_path = '/Users/yuchingchen/Documents/專題/data'\n",
    "merged_data = load_and_merge_files('1021', '1110', base_path)\n",
    "\n",
    "# 按出發日期和航班代碼排序\n",
    "grouped_data = merged_data.sort_values(by=['出發日期', '航班代碼']).reset_index(drop=True)\n",
    "\n",
    "# 確保輸出資料夾存在\n",
    "output_folder = '/Users/yuchingchen/Documents/專題/cleaned_data'\n",
    "os.makedirs(output_folder, exist_ok=True)\n",
    "\n",
    "# 將分組後的資料輸出為 CSV 檔案，並在不同航班代碼前插入標題行\n",
    "output_path = f'{output_folder}/tokyo.csv'\n",
    "save_csv_with_headers(grouped_data, output_path)\n",
    "print(f\"分組並排序後的資料已輸出到 {output_path}\")"
   ]
  }
 ],
 "metadata": {
  "kernelspec": {
   "display_name": "myenv",
   "language": "python",
   "name": "python3"
  },
  "language_info": {
   "codemirror_mode": {
    "name": "ipython",
    "version": 3
   },
   "file_extension": ".py",
   "mimetype": "text/x-python",
   "name": "python",
   "nbconvert_exporter": "python",
   "pygments_lexer": "ipython3",
   "version": "3.12.6"
  }
 },
 "nbformat": 4,
 "nbformat_minor": 2
}

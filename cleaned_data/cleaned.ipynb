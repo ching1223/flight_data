{
 "cells": [
  {
   "cell_type": "markdown",
   "metadata": {},
   "source": [
    "資料處理（按日期跟航班代碼排序）"
   ]
  },
  {
   "cell_type": "code",
   "execution_count": 11,
   "metadata": {},
   "outputs": [
    {
     "name": "stdout",
     "output_type": "stream",
     "text": [
      "分組並排序後的資料已輸出到 /Users/yuchingchen/Documents/專題/cleaned_data/tokyo.csv\n"
     ]
    }
   ],
   "source": [
    "import os\n",
    "import pandas as pd\n",
    "\n",
    "def load_and_merge_files(start_date, end_date, base_path):\n",
    "    dates = pd.date_range(start=f'2024-{start_date[:2]}-{start_date[2:]}', \n",
    "                          end=f'2024-{end_date[:2]}-{end_date[2:]}')\n",
    "    date_strings = [date.strftime('%m%d') for date in dates]\n",
    "\n",
    "    data_frames = []\n",
    "    for date in date_strings:\n",
    "        file_path = f'{base_path}/tokyo_{date}.csv'\n",
    "        if os.path.exists(file_path):\n",
    "            df = pd.read_csv(file_path)\n",
    "            if not df.empty:\n",
    "                df = df.dropna(how=\"all\")\n",
    "                \n",
    "                # 格式化出發日期並去除時間\n",
    "                df['出發日期'] = pd.to_datetime(df['出發日期'].str.extract(r'(\\d{4}-\\d{2}-\\d{2})')[0]).dt.strftime('%Y-%m-%d')\n",
    "                \n",
    "                # 新增星期欄位\n",
    "                df['星期'] = pd.to_datetime(df['出發日期']).dt.day_name(locale='zh_TW')\n",
    "                \n",
    "                # 移除價格中的符號並轉換為數字\n",
    "                df = df[df['價格'].str.match(r'^[NT\\$,\\d\\s]+$')]  # 過濾掉不符合數字格式的行\n",
    "                df['價格'] = df['價格'].replace(r'[NT\\$,\\s]', '', regex=True).astype(int)\n",
    "                \n",
    "                # 計算 day left\n",
    "                file_date = pd.to_datetime(f\"2024-{date[:2]}-{date[2:]}\")\n",
    "                df['day left'] = (pd.to_datetime(df['出發日期']) - file_date).dt.days\n",
    "                \n",
    "                # 調整欄位順序，將「星期」移到「出發時間」後面\n",
    "                cols = df.columns.tolist()\n",
    "                cols.insert(cols.index('出發時間') + 1, cols.pop(cols.index('星期')))\n",
    "                df = df[cols]\n",
    "                \n",
    "                data_frames.append(df)\n",
    "\n",
    "    merged_data = pd.concat(data_frames, ignore_index=True) if data_frames else pd.DataFrame()\n",
    "    return merged_data\n",
    "\n",
    "def save_csv_with_headers(data, output_path):\n",
    "    header = list(data.columns)\n",
    "    previous_flight_code = None\n",
    "\n",
    "    with open(output_path, 'w', encoding='utf-8-sig') as f:\n",
    "        for _, row in data.iterrows():\n",
    "            if pd.notna(row['出發日期']) and pd.notna(row['航班代碼']):\n",
    "                if row['航班代碼'] != previous_flight_code:\n",
    "                    f.write(','.join(header) + '\\n')\n",
    "                    previous_flight_code = row['航班代碼']\n",
    "                f.write(','.join([str(item) for item in row]) + '\\n')\n",
    "\n",
    "# 使用範例\n",
    "base_path = '/Users/yuchingchen/Documents/專題/data'\n",
    "merged_data = load_and_merge_files('1021', '1111', base_path)\n",
    "\n",
    "grouped_data = merged_data.sort_values(by=['出發日期', '航班代碼']).reset_index(drop=True)\n",
    "\n",
    "output_folder = '/Users/yuchingchen/Documents/專題/cleaned_data'\n",
    "os.makedirs(output_folder, exist_ok=True)\n",
    "\n",
    "output_path = f'{output_folder}/tokyo.csv'\n",
    "save_csv_with_headers(grouped_data, output_path)\n",
    "print(f\"分組並排序後的資料已輸出到 {output_path}\")"
   ]
  }
 ],
 "metadata": {
  "kernelspec": {
   "display_name": "myenv",
   "language": "python",
   "name": "python3"
  },
  "language_info": {
   "codemirror_mode": {
    "name": "ipython",
    "version": 3
   },
   "file_extension": ".py",
   "mimetype": "text/x-python",
   "name": "python",
   "nbconvert_exporter": "python",
   "pygments_lexer": "ipython3",
   "version": "3.12.6"
  }
 },
 "nbformat": 4,
 "nbformat_minor": 2
}
